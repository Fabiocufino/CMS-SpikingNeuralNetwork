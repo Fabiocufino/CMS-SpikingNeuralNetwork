{
 "cells": [
  {
   "cell_type": "code",
   "execution_count": null,
   "metadata": {},
   "outputs": [],
   "source": []
  },
  {
   "cell_type": "markdown",
   "metadata": {},
   "source": [
    "# Multithred Learning"
   ]
  },
  {
   "cell_type": "code",
   "execution_count": 1,
   "metadata": {},
   "outputs": [
    {
     "name": "stdout",
     "output_type": "stream",
     "text": [
      "I have to sleep for 5 s\n",
      "I have to sleep for 4 s\n",
      "I have to sleep for 1 s\n",
      "I have to sleep for 3 s\n",
      "I have to sleep for 2 s\n",
      "I slept for 1 s\n",
      "I slept for 2 s\n",
      "I slept for 3 s\n",
      "I slept for 4 s\n",
      "I slept for 5 s\n",
      "Finished in 5.007258084136993 seconds\n"
     ]
    }
   ],
   "source": [
    "# !pip3 install futures\n",
    "import time\n",
    "import concurrent.futures\n",
    "\n",
    "numbers = [5,4,1,3,2]\n",
    "\n",
    "t1 = time.perf_counter()\n",
    "\n",
    "\n",
    "def print_id(num):\n",
    "    print(f'I have to sleep for {num} s')\n",
    "    time.sleep(num)\n",
    "    print(f'I slept for {num} s')\n",
    "\n",
    "\n",
    "\n",
    "with concurrent.futures.ThreadPoolExecutor() as executor:\n",
    "    results = []\n",
    "    for n in numbers:\n",
    "       results.append(executor.submit(print_id, n))\n",
    "\n",
    "t2 = time.perf_counter()\n",
    "print(f'Finished in {t2-t1} seconds')"
   ]
  },
  {
   "cell_type": "markdown",
   "metadata": {},
   "source": [
    "## Now let's try to use return in the functions"
   ]
  },
  {
   "cell_type": "code",
   "execution_count": 69,
   "metadata": {},
   "outputs": [
    {
     "name": "stdout",
     "output_type": "stream",
     "text": [
      "I have to sleep for 5 s\n",
      "I have to sleep for 4 s\n",
      "I have to sleep for 1 s\n",
      "I have to sleep for 3 s\n",
      "I have to sleep for 2 s\n",
      "I slept for 1 s\n",
      "1\n",
      "I slept for 2 s\n",
      "2\n",
      "I slept for 3 s\n",
      "3\n",
      "I slept for 4 s\n",
      "4\n",
      "I slept for 5 s\n",
      "5\n",
      "Finished in 5.012760624988005 seconds\n"
     ]
    }
   ],
   "source": [
    "# !pip3 install futures\n",
    "import time\n",
    "import concurrent.futures\n",
    "\n",
    "numbers = [5,4,1,3,2]\n",
    "\n",
    "t1 = time.perf_counter()\n",
    "\n",
    "\n",
    "def print_id(num):\n",
    "    print(f'I have to sleep for {num} s')\n",
    "    time.sleep(num)\n",
    "    print(f'I slept for {num} s')\n",
    "    return num\n",
    "\n",
    "\n",
    "\n",
    "with concurrent.futures.ThreadPoolExecutor() as executor:\n",
    "    results = []\n",
    "    for n in numbers:\n",
    "       results.append(executor.submit(print_id, n))\n",
    "\n",
    "\n",
    "\n",
    "    for f in concurrent.futures.as_completed(results):\n",
    "\t    print(f.result())\n",
    "\n",
    "t2 = time.perf_counter()\n",
    "print(f'Finished in {t2-t1} seconds')"
   ]
  },
  {
   "cell_type": "markdown",
   "metadata": {},
   "source": []
  },
  {
   "cell_type": "markdown",
   "metadata": {},
   "source": [
    "# Now using map"
   ]
  },
  {
   "cell_type": "code",
   "execution_count": 59,
   "metadata": {},
   "outputs": [
    {
     "name": "stdout",
     "output_type": "stream",
     "text": [
      "I have to sleep for 5 s\n",
      "I have to sleep for 4 s\n",
      "I have to sleep for 1 s\n",
      "I have to sleep for 3 s\n",
      "I have to sleep for 2 s\n",
      "I slept for 1 s\n",
      "I slept for 2 s\n",
      "I slept for 3 s\n",
      "I slept for 4 s\n",
      "I slept for 5 s\n",
      "5\n",
      "4\n",
      "1\n",
      "3\n",
      "2\n",
      "Finished in 5.009410999948159 seconds\n"
     ]
    }
   ],
   "source": [
    "#same code as above but using map()\n",
    "import time\n",
    "import concurrent.futures\n",
    "\n",
    "numbers = [5,4,1,3,2]\n",
    "\n",
    "t1 = time.perf_counter()\n",
    "\n",
    "\n",
    "def print_id(num):\n",
    "    print(f'I have to sleep for {num} s')\n",
    "    time.sleep(num)\n",
    "    print(f'I slept for {num} s')\n",
    "    return num\n",
    "\n",
    "\n",
    "\n",
    "with concurrent.futures.ThreadPoolExecutor() as executor:\n",
    "    results = executor.map(print_id, numbers)\n",
    "\n",
    "    for result in results:\n",
    "        print(result)\n",
    "\n",
    "t2 = time.perf_counter()\n",
    "print(f'Finished in {t2-t1} seconds')"
   ]
  },
  {
   "cell_type": "markdown",
   "metadata": {},
   "source": [
    "## How NOT TO USE multithreading: matrix multiplication"
   ]
  },
  {
   "cell_type": "code",
   "execution_count": 60,
   "metadata": {},
   "outputs": [
    {
     "name": "stdout",
     "output_type": "stream",
     "text": [
      "Finished in 0.46081458404660225 seconds\n"
     ]
    }
   ],
   "source": [
    "#Define 2 matrices, withou using numpy\n",
    "import numpy as np\n",
    "\n",
    "\n",
    "matrix1 = np.random.randint(1,10, size=(100,100))\n",
    "matrix2 = np.random.randint(1,10, size=(100,100))\n",
    "\n",
    "#result matrix\n",
    "result_np = np.zeros((len(matrix1), len(matrix2[0])))\n",
    "\n",
    "#time to compute the multiplication\n",
    "t1 = time.perf_counter()\n",
    "for i in range(len(matrix1)):\n",
    "    for j in range(len(matrix2[0])):\n",
    "        for k in range(len(matrix2)):\n",
    "            result_np[i][j] += matrix1[i][k] * matrix2[k][j]\n",
    "t2 = time.perf_counter()\n",
    "print(f'Finished in {t2-t1} seconds')\n"
   ]
  },
  {
   "cell_type": "code",
   "execution_count": 61,
   "metadata": {},
   "outputs": [
    {
     "name": "stdout",
     "output_type": "stream",
     "text": [
      "Finished in 4.996570667019114 seconds\n"
     ]
    }
   ],
   "source": [
    "#now using multithreading\n",
    "import concurrent.futures\n",
    "\n",
    "t1 = time.perf_counter()\n",
    "def multiply(i, j, k):\n",
    "    return matrix1[i][k] * matrix2[k][j]\n",
    "\n",
    "result = np.zeros((len(matrix1), len(matrix2[0])))\n",
    "\n",
    "with concurrent.futures.ThreadPoolExecutor() as executor:\n",
    "    for i in range(len(matrix1)):\n",
    "        for j in range(len(matrix2[0])):\n",
    "            result[i][j] = sum(executor.map(multiply, [i]*len(matrix2), [j]*len(matrix2), range(len(matrix2))))\n",
    "\n",
    "t2 = time.perf_counter()\n",
    "print(f'Finished in {t2-t1} seconds')\n"
   ]
  },
  {
   "cell_type": "code",
   "execution_count": 62,
   "metadata": {},
   "outputs": [
    {
     "data": {
      "text/plain": [
       "True"
      ]
     },
     "execution_count": 62,
     "metadata": {},
     "output_type": "execute_result"
    }
   ],
   "source": [
    "#compare the results\n",
    "np.array_equal(result, result_np)"
   ]
  }
 ],
 "metadata": {
  "kernelspec": {
   "display_name": "Python 3",
   "language": "python",
   "name": "python3"
  },
  "language_info": {
   "codemirror_mode": {
    "name": "ipython",
    "version": 3
   },
   "file_extension": ".py",
   "mimetype": "text/x-python",
   "name": "python",
   "nbconvert_exporter": "python",
   "pygments_lexer": "ipython3",
   "version": "3.11.6"
  }
 },
 "nbformat": 4,
 "nbformat_minor": 2
}
