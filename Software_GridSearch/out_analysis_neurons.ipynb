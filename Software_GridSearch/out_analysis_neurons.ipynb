{
 "cells": [
  {
   "cell_type": "code",
   "execution_count": 11,
   "id": "af3cdcd9",
   "metadata": {},
   "outputs": [],
   "source": [
    "import numpy as np\n",
    "import pandas as pd\n",
    "import re\n",
    "import matplotlib.pyplot as mp\n",
    "import seaborn as sns\n",
    "import itertools\n",
    "\n",
    "N_files = 24\n",
    "\n",
    "find_numbers = lambda string: re.findall(\"[-+]?[.]?[\\d]+(?:,\\d\\d\\d)*[\\.]?\\d*(?:[eE][-+]?\\d+)?\", string)\n",
    "find_value = lambda string: float(find_numbers(string)[-1]) if(len(find_numbers(string))>0) else 0"
   ]
  },
  {
   "cell_type": "code",
   "execution_count": 12,
   "metadata": {},
   "outputs": [],
   "source": [
    "import numpy as np\n",
    "import pandas as pd\n",
    "import re\n",
    "import matplotlib.pyplot as mp\n",
    "import seaborn as sns\n",
    "import itertools\n",
    "\n",
    "N_files = 24\n",
    "\n",
    "find_numbers = lambda string: re.findall(\"[-+]?[.]?[\\d]+(?:,\\d\\d\\d)*[\\.]?\\d*(?:[eE][-+]?\\d+)?\", string)\n",
    "find_value = lambda string: float(find_numbers(string)[-1]) if(len(find_numbers(string))>0) else 0"
   ]
  },
  {
   "cell_type": "code",
   "execution_count": 13,
   "id": "77f71156",
   "metadata": {},
   "outputs": [
    {
     "name": "stdout",
     "output_type": "stream",
     "text": [
      "0 \n",
      "\n",
      "1 \n",
      "\n",
      "2                                  ------------------------------------\n",
      "\n",
      "3 \n",
      "\n",
      "4                                     S   N   N      T r a c k i n g\n",
      "\n",
      "5 \n",
      "\n",
      "6                                  ------------------------------------\n",
      "\n",
      "7 \n",
      "\n",
      "8 \n",
      "\n",
      "9 \n",
      "\n",
      "10 \n",
      "\n",
      "11          ------------------------------------------------------------------------------------    \n",
      "\n",
      "12          Unsupervised search for tracks in 8-layer strip detector with spiking neural network    \n",
      "\n",
      "13                                                                              T.Dorigo, 3/2023    \n",
      "\n",
      "14          ------------------------------------------------------------------------------------    \n",
      "\n",
      "15 \n",
      "\n",
      "16          Run parameters: \n",
      "\n",
      "17          -----------------------------------\n",
      "\n",
      "18                        L0 neurons: 6\n",
      "\n",
      "19                        L1 neurons: 6\n",
      "\n",
      "20             Connected L0-L1 frac.: 1\n",
      "\n",
      "21             Connected IN-L0 frac.: 1\n",
      "\n",
      "22             Connected IN-L1 frac.: 1\n",
      "\n",
      "23                     Track classes: 6\n",
      "\n",
      "24                      Total events: 100000\n",
      "\n",
      "25                Optimization loops: 1\n",
      "\n",
      "26              Optimize SNN params.: False\n",
      "\n",
      "27                   Optimize delays: False\n",
      "\n",
      "28              Optimize connections: False\n",
      "\n",
      "29                   Max mod. factor: 0.2\n",
      "\n",
      "30          -----------------------------------\n",
      "\n",
      "31 \n",
      "\n",
      "32          Starting values of parameters:\n",
      "\n",
      "33          -----------------------------------\n",
      "\n",
      "34                      L0 threshold: 0.3\n",
      "\n",
      "35                      L1 threshold: 0.3\n",
      "\n",
      "36                             alpha: 0.8\n",
      "\n",
      "37                         L1inhibit: 1\n",
      "\n",
      "38                                 K: 1\n",
      "\n",
      "39                                K1: 2\n",
      "\n",
      "40                                K2: 4\n",
      "\n",
      "41                  IE pot. constant: 1\n",
      "\n",
      "42                  IPSP dt dilation: 1\n",
      "\n",
      "43          -----------------------------------\n",
      "\n",
      "44 \n",
      "\n",
      "45          [--10%--20%--30%--40%--50%--60%--70%--80%--90%-100%]\n",
      "\n",
      "46          Ev. # 100000 - LR = 0.0245173; Selectivity L0 = 0.00483322 L1 = nan; Eff = 1 Acc = 0.9966; Firings: 863981 870456 264261 891711 818748 744522 282488 236333 361182 276091 386432 444195 \n",
      "\n",
      "47          Q = nan Old = 0 Best = 0 ib = 0\n",
      "\n",
      "48 Drawing histos\n",
      "\n",
      "49 \n",
      "\n",
      "50 \n",
      "\n",
      "51          Run parameters\n",
      "\n",
      "52          -----------------------------------\n",
      "\n",
      "53                        L0 neurons: 6\n",
      "\n",
      "54                        L1 neurons: 6\n",
      "\n",
      "55             Connected L0-L1 frac.: 1\n",
      "\n",
      "56             Connected IN-L0 frac.: 1\n",
      "\n",
      "57             Connected IN-L1 frac.: 1\n",
      "\n",
      "58                     Track classes: 6\n",
      "\n",
      "59 \n",
      "\n",
      "60          Optimization results\n",
      "\n",
      "61          -----------------------------------\n",
      "\n",
      "62                Average efficiency: 0\n",
      "\n",
      "63                 Average fake rate: 0\n",
      "\n",
      "64                   Maximum Q value: 0\n",
      "\n",
      "65                    L1 selectivity: 0\n",
      "\n",
      "66 \n",
      "\n",
      "67          Optimized parameter values\n",
      "\n",
      "68          -----------------------------------\n",
      "\n",
      "69                      L0 threshold: 0\n",
      "\n",
      "70                      L1 threshold: 0\n",
      "\n",
      "71                             alpha: 0\n",
      "\n",
      "72                         L1inhibit: 0\n",
      "\n",
      "73                                 K: 0\n",
      "\n",
      "74                                K1: 0\n",
      "\n",
      "75                                K2: 0\n",
      "\n",
      "76                  IE pot. constant: 0\n",
      "\n",
      "77                  IPSP dt dilation: 0\n",
      "\n",
      "78          -----------------------------------\n",
      "\n",
      "79 \n",
      "\n",
      "80 Writing canvas\n",
      "\n",
      "81 Saving pdf\n",
      "\n",
      "82 Creating the file for the potentials plot\n",
      "\n",
      "83 Initializaing the plot SNN\n",
      "\n"
     ]
    }
   ],
   "source": [
    "f = open(\"out/log_1.txt\")\n",
    "\n",
    "for i, x in enumerate(f):\n",
    "    print(i,x)"
   ]
  },
  {
   "cell_type": "code",
   "execution_count": 22,
   "id": "de0ee801",
   "metadata": {},
   "outputs": [
    {
     "name": "stdout",
     "output_type": "stream",
     "text": [
      "0 1.0 0.9966 0.856113 -0.100833\n",
      "1 0.0 0.0 0.0 0.0\n",
      "2 1.0 0.9966 1.12027 0.244643\n",
      "3 1.0 0.9966 0.84196 -0.119342\n",
      "4 1.0 0.9966 0.851196 -0.107263\n",
      "5 1.0 0.9966 1.0521 0.155487\n",
      "6 1.0 0.9952 0.975895 0.0549238\n",
      "7 1.0 0.9966 1.02679 0.122388\n",
      "8 0.994651 0.995 1.22665 0.3869\n",
      "9 1.0 0.9966 0.905358 -0.0364271\n",
      "10 1.0 0.9966 0.991851 0.0766931\n",
      "11 0.997223 0.9966 1.18987 0.337919\n",
      "12 0.0 0.0 0.0 0.0\n",
      "13 0.0 0.0 0.0 0.0\n",
      "14 0.0 0.0 0.0 0.0\n",
      "15 0.0 0.0 0.0 0.0\n",
      "16 0.999804 0.9946 1.17772 0.318358\n",
      "17 0.0 0.0 0.0 0.0\n",
      "18 0.582007 0.0018 3.52088 0.187382\n",
      "19 0.622714 0.0018 3.78718 0.187842\n",
      "20 0.582259 0.0018 2.96107 0.00900943\n",
      "21 0.882828 0.033 0 1.0\n",
      "22 0.886182 0.036 5.20133 0.231378\n",
      "23 0.873782 0.0368 5.01751 0.212491\n",
      "Selectivity maximum: \n",
      "1.0\n",
      "Fk min\n",
      "0.0018\n"
     ]
    }
   ],
   "source": [
    "#efficiency  -> line 62\n",
    "#fake rate   -> line 63\n",
    "#Q value     -> line 64\n",
    "#selectivity -> line 65\n",
    "\n",
    "metrics_list = []\n",
    "\n",
    "for i in range(N_files):\n",
    "    f = open(f\"out/log_{i}.txt\")\n",
    "    log_lines = f.readlines()\n",
    "    if(len(log_lines)>65):\n",
    "        efficiency  = find_value(log_lines[62])\n",
    "        fkrate      = find_value(log_lines[63])\n",
    "        Qvalue      = find_value(log_lines[64])\n",
    "        selectivity = find_value(log_lines[65])\n",
    "    \n",
    "        metrics = (efficiency, fkrate, Qvalue, selectivity)\n",
    "        print(i, *metrics)\n",
    "    \n",
    "        metrics_list.append((i, efficiency, fkrate, Qvalue, selectivity))\n",
    "    else:\n",
    "        metrics_list.append((i, -1, -1, -1, -1))\n",
    "\n",
    "print(\"Selectivity maximum: \")\n",
    "print(max([line[-1] for line in metrics_list]))\n",
    "print(\"Fk min\")\n",
    "print(min([line[2] for line in metrics_list if line[2]>0]))"
   ]
  },
  {
   "cell_type": "code",
   "execution_count": 15,
   "id": "324bb47f",
   "metadata": {},
   "outputs": [
    {
     "name": "stdout",
     "output_type": "stream",
     "text": [
      "    PK  Efficiency  Fake Rate   Q value  Selectivity\n",
      "0    0    1.000000     0.9966  0.856113    -0.100833\n",
      "1    1    0.000000     0.0000  0.000000     0.000000\n",
      "2    2    1.000000     0.9966  1.120270     0.244643\n",
      "3    3    1.000000     0.9966  0.841960    -0.119342\n",
      "4    4    1.000000     0.9966  0.851196    -0.107263\n",
      "5    5    1.000000     0.9966  1.052100     0.155487\n",
      "6    6    1.000000     0.9952  0.975895     0.054924\n",
      "7    7    1.000000     0.9966  1.026790     0.122388\n",
      "8    8    0.994651     0.9950  1.226650     0.386900\n",
      "9    9    1.000000     0.9966  0.905358    -0.036427\n",
      "10  10    1.000000     0.9966  0.991851     0.076693\n",
      "11  11    0.997223     0.9966  1.189870     0.337919\n",
      "12  12    0.000000     0.0000  0.000000     0.000000\n",
      "13  13    0.000000     0.0000  0.000000     0.000000\n",
      "14  14    0.000000     0.0000  0.000000     0.000000\n",
      "15  15    0.000000     0.0000  0.000000     0.000000\n",
      "16  16    0.999804     0.9946  1.177720     0.318358\n",
      "17  17    0.000000     0.0000  0.000000     0.000000\n",
      "18  18    0.582007     0.0018  3.520880     0.187382\n",
      "19  19    0.622714     0.0018  3.787180     0.187842\n",
      "20  20    0.582259     0.0018  2.961070     0.009009\n",
      "21  21    0.882828     0.0330  0.000000     1.000000\n",
      "22  22    0.886182     0.0360  5.201330     0.231378\n",
      "23  23    0.873782     0.0368  5.017510     0.212491\n"
     ]
    },
    {
     "data": {
      "text/plain": [
       "<Axes: xlabel='PK', ylabel='Selectivity'>"
      ]
     },
     "execution_count": 15,
     "metadata": {},
     "output_type": "execute_result"
    },
    {
     "data": {
      "image/png": "[encoded data removed]",
      "text/plain": [
       "<Figure size 640x480 with 1 Axes>"
      ]
     },
     "metadata": {},
     "output_type": "display_data"
    }
   ],
   "source": [
    "#creating a pandas dataframe:\n",
    "df = pd.DataFrame(metrics_list, columns =['PK', 'Efficiency', 'Fake Rate', 'Q value', 'Selectivity'])\n",
    "print(df)\n",
    "df.plot(x=\"PK\", y=\"Selectivity\", kind=\"scatter\")\n"
   ]
  },
  {
   "cell_type": "code",
   "execution_count": 16,
   "id": "dcbf4ef5",
   "metadata": {},
   "outputs": [
    {
     "name": "stdout",
     "output_type": "stream",
     "text": [
      "      PK   TH   N   CF  alfa\n",
      "0      0  0.2   6  1.0   0.1\n",
      "1      1  0.2   6  1.0   0.5\n",
      "2      2  0.2   6  1.0   0.8\n",
      "3      3  0.2   6  1.0  10.0\n",
      "4      4  0.2   6  0.8   0.1\n",
      "..   ...  ...  ..  ...   ...\n",
      "139  139  0.5  25  0.8  10.0\n",
      "140  140  0.5  25  0.6   0.1\n",
      "141  141  0.5  25  0.6   0.5\n",
      "142  142  0.5  25  0.6   0.8\n",
      "143  143  0.5  25  0.6  10.0\n",
      "\n",
      "[144 rows x 5 columns]\n"
     ]
    }
   ],
   "source": [
    "NL0_list =          [6, 15, 25]       \n",
    "CFI0_list =         [1, 0.8, 0.6] \n",
    "a_list =            [0.1, 0.5, 0.8, 10]      #alfa parameter -> inhibition strength\n",
    "Thresh0 =           [0.2, 0.3, 0.4, 0.5]\n",
    "\n",
    "\n",
    "parameters_list = (Thresh0, NL0_list, CFI0_list, a_list)\n",
    "#----------------------------------------------------------------\n",
    "tot_comb = 1\n",
    "for param in parameters_list:\n",
    "    tot_comb*=len(param)\n",
    "    \n",
    "#File creation\n",
    "#create an iterator with all the possible combinations\n",
    "all_combinations = itertools.product(*parameters_list)\n",
    "\n",
    "combo_list = [(i, *combination) for i, combination in enumerate(all_combinations)]\n",
    "\n",
    "combo_df = pd.DataFrame(combo_list, columns=[\"PK\",\"TH\", \"N\", \"CF\", \"alfa\"])\n",
    "print(combo_df)"
   ]
  },
  {
   "cell_type": "code",
   "execution_count": 17,
   "id": "8920b76b",
   "metadata": {},
   "outputs": [
    {
     "name": "stdout",
     "output_type": "stream",
     "text": [
      "    PK  Efficiency  Fake Rate   Q value  Selectivity   TH   N   CF  alfa\n",
      "0    0    1.000000     0.9966  0.856113    -0.100833  0.2   6  1.0   0.1\n",
      "1    1    0.000000     0.0000  0.000000     0.000000  0.2   6  1.0   0.5\n",
      "2    2    1.000000     0.9966  1.120270     0.244643  0.2   6  1.0   0.8\n",
      "3    3    1.000000     0.9966  0.841960    -0.119342  0.2   6  1.0  10.0\n",
      "4    4    1.000000     0.9966  0.851196    -0.107263  0.2   6  0.8   0.1\n",
      "5    5    1.000000     0.9966  1.052100     0.155487  0.2   6  0.8   0.5\n",
      "6    6    1.000000     0.9952  0.975895     0.054924  0.2   6  0.8   0.8\n",
      "7    7    1.000000     0.9966  1.026790     0.122388  0.2   6  0.8  10.0\n",
      "8    8    0.994651     0.9950  1.226650     0.386900  0.2   6  0.6   0.1\n",
      "9    9    1.000000     0.9966  0.905358    -0.036427  0.2   6  0.6   0.5\n",
      "10  10    1.000000     0.9966  0.991851     0.076693  0.2   6  0.6   0.8\n",
      "11  11    0.997223     0.9966  1.189870     0.337919  0.2   6  0.6  10.0\n",
      "12  12    0.000000     0.0000  0.000000     0.000000  0.2  15  1.0   0.1\n",
      "13  13    0.000000     0.0000  0.000000     0.000000  0.2  15  1.0   0.5\n",
      "14  14    0.000000     0.0000  0.000000     0.000000  0.2  15  1.0   0.8\n",
      "15  15    0.000000     0.0000  0.000000     0.000000  0.2  15  1.0  10.0\n",
      "16  16    0.999804     0.9946  1.177720     0.318358  0.2  15  0.8   0.1\n",
      "17  17    0.000000     0.0000  0.000000     0.000000  0.2  15  0.8   0.5\n",
      "18  18    0.582007     0.0018  3.520880     0.187382  0.2  15  0.8   0.8\n",
      "19  19    0.622714     0.0018  3.787180     0.187842  0.2  15  0.8  10.0\n",
      "20  20    0.582259     0.0018  2.961070     0.009009  0.2  15  0.6   0.1\n",
      "21  21    0.882828     0.0330  0.000000     1.000000  0.2  15  0.6   0.5\n",
      "22  22    0.886182     0.0360  5.201330     0.231378  0.2  15  0.6   0.8\n",
      "23  23    0.873782     0.0368  5.017510     0.212491  0.2  15  0.6  10.0\n"
     ]
    }
   ],
   "source": [
    "#inner join using PK field\n",
    "join_df = df.join(combo_df.set_index(\"PK\"), on=\"PK\")\n",
    "print (join_df)"
   ]
  },
  {
   "cell_type": "code",
   "execution_count": 18,
   "id": "84897769",
   "metadata": {},
   "outputs": [
    {
     "data": {
      "text/plain": [
       "<Axes: xlabel='TH-alfa-CF', ylabel='N'>"
      ]
     },
     "execution_count": 18,
     "metadata": {},
     "output_type": "execute_result"
    },
    {
     "data": {
      "image/png": "[encoded data removed]",
      "text/plain": [
       "<Figure size 640x480 with 2 Axes>"
      ]
     },
     "metadata": {},
     "output_type": "display_data"
    }
   ],
   "source": [
    "sns.heatmap(join_df.pivot(index=\"N\", columns=[\"TH\", \"alfa\", \"CF\"], values=\"Selectivity\"))"
   ]
  },
  {
   "cell_type": "code",
   "execution_count": 19,
   "id": "9e67095a",
   "metadata": {},
   "outputs": [
    {
     "data": {
      "text/plain": [
       "<Axes: xlabel='TH-CF-alfa', ylabel='N'>"
      ]
     },
     "execution_count": 19,
     "metadata": {},
     "output_type": "execute_result"
    },
    {
     "data": {
      "image/png": "[encoded data removed]",
      "text/plain": [
       "<Figure size 640x480 with 2 Axes>"
      ]
     },
     "metadata": {},
     "output_type": "display_data"
    }
   ],
   "source": [
    "sns.heatmap(join_df.pivot(index=\"N\", columns=[\"TH\", \"CF\", \"alfa\"], values=\"Q value\"))\n"
   ]
  },
  {
   "cell_type": "code",
   "execution_count": 20,
   "id": "e5ab0785",
   "metadata": {},
   "outputs": [
    {
     "data": {
      "text/plain": [
       "<Axes: xlabel='TH-CF-alfa', ylabel='N'>"
      ]
     },
     "execution_count": 20,
     "metadata": {},
     "output_type": "execute_result"
    },
    {
     "data": {
      "image/png": "[encoded data removed]",
      "text/plain": [
       "<Figure size 640x480 with 2 Axes>"
      ]
     },
     "metadata": {},
     "output_type": "display_data"
    }
   ],
   "source": [
    "sns.heatmap(join_df.pivot(index=\"N\", columns=[\"TH\", \"CF\", \"alfa\"], values=\"Efficiency\"))"
   ]
  },
  {
   "cell_type": "code",
   "execution_count": 21,
   "id": "f8aa2bce",
   "metadata": {},
   "outputs": [
    {
     "data": {
      "text/plain": [
       "<Axes: xlabel='TH-CF-alfa', ylabel='N'>"
      ]
     },
     "execution_count": 21,
     "metadata": {},
     "output_type": "execute_result"
    },
    {
     "data": {
      "image/png": "[encoded data removed]",
      "text/plain": [
       "<Figure size 640x480 with 2 Axes>"
      ]
     },
     "metadata": {},
     "output_type": "display_data"
    }
   ],
   "source": [
    "sns.heatmap(join_df.pivot(index=\"N\", columns=[\"TH\", \"CF\", \"alfa\"], values=\"Fake Rate\"))"
   ]
  },
  {
   "cell_type": "code",
   "execution_count": null,
   "id": "35aa1cf6-4063-4186-b642-c5e4188b4bb5",
   "metadata": {},
   "outputs": [],
   "source": []
  }
 ],
 "metadata": {
  "kernelspec": {
   "display_name": "Python 3 (ipykernel)",
   "language": "python",
   "name": "python3"
  },
  "language_info": {
   "codemirror_mode": {
    "name": "ipython",
    "version": 3
   },
   "file_extension": ".py",
   "mimetype": "text/x-python",
   "name": "python",
   "nbconvert_exporter": "python",
   "pygments_lexer": "ipython3",
   "version": "3.11.4"
  }
 },
 "nbformat": 4,
 "nbformat_minor": 5
}
