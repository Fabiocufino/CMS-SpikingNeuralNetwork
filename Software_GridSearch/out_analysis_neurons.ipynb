{
 "cells": [
  {
   "cell_type": "code",
   "execution_count": 2,
   "id": "af3cdcd9",
   "metadata": {},
   "outputs": [],
   "source": [
    "import numpy as np\n",
    "import pandas as pd\n",
    "import re\n",
    "import matplotlib.pyplot as mp\n",
    "import seaborn as sns\n",
    "import itertools\n",
    "\n",
    "N_files = 45\n",
    "\n",
    "find_numbers = lambda string: re.findall(\"[-+]?[.]?[\\d]+(?:,\\d\\d\\d)*[\\.]?\\d*(?:[eE][-+]?\\d+)?\", string)\n",
    "find_value = lambda string: float(find_numbers(string)[-1])"
   ]
  },
  {
   "cell_type": "code",
   "execution_count": 3,
   "id": "77f71156",
   "metadata": {},
   "outputs": [
    {
     "name": "stdout",
     "output_type": "stream",
     "text": [
      "0 ROOT_prompt_2:1:33: warning: ISO C++11 does not allow conversion from string literal to 'char *' [-Wwritable-strings]\n",
      "\n",
      "1 SNN_Tracking(100000, 1, 10, 10, \"/lustre/cmsdata/SNN_group/100k_100br.root\", 1, 1e-09, 2.5e-10, 1.68e-09, 1.68e-09, 0.03125, 0.02656, 1, 1, 1, 0.7, 35, 35);\n",
      "\n",
      "2                                 ^\n",
      "\n",
      "3 \n",
      "\n",
      "4 \n",
      "\n",
      "5                                  ------------------------------------\n",
      "\n",
      "6 \n",
      "\n",
      "7                                     S   N   N      T r a c k i n g\n",
      "\n",
      "8 \n",
      "\n",
      "9                                  ------------------------------------\n",
      "\n",
      "10 \n",
      "\n",
      "11 \n",
      "\n",
      "12 \n",
      "\n",
      "13 \n",
      "\n",
      "14          ------------------------------------------------------------------------------------    \n",
      "\n",
      "15          Unsupervised search for tracks in 8-layer strip detector with spiking neural network    \n",
      "\n",
      "16                                                                              T.Dorigo, 3/2023    \n",
      "\n",
      "17          ------------------------------------------------------------------------------------    \n",
      "\n",
      "18 \n",
      "\n",
      "19          Run parameters: \n",
      "\n",
      "20          -----------------------------------\n",
      "\n",
      "21                        L0 neurons: 10\n",
      "\n",
      "22                        L1 neurons: 10\n",
      "\n",
      "23             Connected L0-L1 frac.: 1\n",
      "\n",
      "24             Connected IN-L0 frac.: 1\n",
      "\n",
      "25             Connected IN-L1 frac.: 1\n",
      "\n",
      "26                     Track classes: 6\n",
      "\n",
      "27                      Total events: 100000\n",
      "\n",
      "28                Optimization loops: 1\n",
      "\n",
      "29              Optimize SNN params.: True\n",
      "\n",
      "30                   Optimize delays: False\n",
      "\n",
      "31              Optimize connections: False\n",
      "\n",
      "32                   Max mod. factor: 0.2\n",
      "\n",
      "33                 Only 50-hit tracks: False\n",
      "\n",
      "34          -----------------------------------\n",
      "\n",
      "35 \n",
      "\n",
      "36          Starting values of parameters:\n",
      "\n",
      "37          -----------------------------------\n",
      "\n",
      "38                      L0 threshold: 35\n",
      "\n",
      "39                      L1 threshold: 35\n",
      "\n",
      "40                             alpha: 0.7\n",
      "\n",
      "41                         L1inhibit: 1\n",
      "\n",
      "42                                 K: 1\n",
      "\n",
      "43                                K1: 2\n",
      "\n",
      "44                                K2: 4\n",
      "\n",
      "45                  IE pot. constant: 2.5\n",
      "\n",
      "46                  IPSP dt dilation: 1\n",
      "\n",
      "47          -----------------------------------\n",
      "\n",
      "48 \n",
      "\n",
      "49          [--10%--20%--30%--40%--50%--60%--70%--80%--90%-100%]\n",
      "\n",
      "50          Ev. # 100000 - LR = 0.0245173; Selectivity L0 = 0.526219 L1 = 0.424577; Eff = 0.958283 Acc = 0.0362; Firings: 8158 27546 31934 31963 28745 31877 16898 13420 33558 29523 62357 87634 34926 31879 26925 34985 34048 31962 29789 31329 \n",
      "\n",
      "51          Q = 6.41203 Old = 0 Best = 0 ib = 0Drawing histos\n",
      "\n",
      "52 \n",
      "\n",
      "53 \n",
      "\n",
      "54          Run parameters\n",
      "\n",
      "55          -----------------------------------\n",
      "\n",
      "56                        L0 neurons: 10\n",
      "\n",
      "57                        L1 neurons: 10\n",
      "\n",
      "58             Connected L0-L1 frac.: 1\n",
      "\n",
      "59             Connected IN-L0 frac.: 1\n",
      "\n",
      "60             Connected IN-L1 frac.: 1\n",
      "\n",
      "61                     Track classes: 6\n",
      "\n",
      "62 \n",
      "\n",
      "63          Optimization results\n",
      "\n",
      "64          -----------------------------------\n",
      "\n",
      "65                Average efficiency: 0.958283\n",
      "\n",
      "66                 Average fake rate: 0.0362\n",
      "\n",
      "67                   Maximum Q value: 6.41203\n",
      "\n",
      "68                    L1 selectivity: 0.424577\n",
      "\n",
      "69 \n",
      "\n",
      "70          Optimized parameter values\n",
      "\n",
      "71          -----------------------------------\n",
      "\n",
      "72                      L0 threshold: 35\n",
      "\n",
      "73                      L1 threshold: 35\n",
      "\n",
      "74                             alpha: 0.7\n",
      "\n",
      "75                         L1inhibit: 1\n",
      "\n",
      "76                                 K: 1\n",
      "\n",
      "77                                K1: 2\n",
      "\n",
      "78                                K2: 4\n",
      "\n",
      "79                  IE pot. constant: 2.5\n",
      "\n",
      "80                  IPSP dt dilation: 0.984267\n",
      "\n",
      "81          -----------------------------------\n",
      "\n",
      "82 \n",
      "\n",
      "83 Writing canvas\n",
      "\n",
      "84 Saving pdf\n",
      "\n"
     ]
    }
   ],
   "source": [
    "f = open(\"out/log_1.txt\")\n",
    "\n",
    "for i, x in enumerate(f):\n",
    "    print(i,x)"
   ]
  },
  {
   "cell_type": "code",
   "execution_count": 4,
   "id": "de0ee801",
   "metadata": {},
   "outputs": [
    {
     "name": "stdout",
     "output_type": "stream",
     "text": [
      "Selectivity maximum: \n",
      "0.550877\n"
     ]
    }
   ],
   "source": [
    "#efficiency  -> line 65\n",
    "#fake rate   -> line 66\n",
    "#Q value     -> line 67\n",
    "#selectivity -> line 68\n",
    "\n",
    "metrics_list = []\n",
    "\n",
    "for i in range(N_files):\n",
    "    f = open(f\"out/log_{i}.txt\")\n",
    "    log_lines = f.readlines()\n",
    "    \n",
    "    efficiency  = find_value(log_lines[65])\n",
    "    fkrate      = find_value(log_lines[66])\n",
    "    Qvalue      = find_value(log_lines[67])\n",
    "    selectivity = find_value(log_lines[68])\n",
    "    \n",
    "    metrics = (efficiency, fkrate, Qvalue, selectivity)\n",
    "    #print(i, *metrics)\n",
    "\n",
    "    metrics_list.append((i, efficiency, fkrate, Qvalue, selectivity))\n",
    "\n",
    "print(\"Selectivity maximum: \")\n",
    "print(max([line[-1] for line in metrics_list]))"
   ]
  },
  {
   "cell_type": "code",
   "execution_count": 5,
   "id": "324bb47f",
   "metadata": {},
   "outputs": [
    {
     "name": "stdout",
     "output_type": "stream",
     "text": [
      "    PK  Efficiency  Fake Rate  Q value  Selectivity\n",
      "0    0    0.958283     0.0362  6.34906     0.412728\n",
      "1    1    0.958283     0.0362  6.41203     0.424577\n",
      "2    2    0.958283     0.0360  6.44328     0.429919\n",
      "3    3    0.958283     0.0364  7.06031     0.547172\n",
      "4    4    0.958086     0.0358  7.08012     0.549205\n",
      "5    5    0.957883     0.0360  7.08504     0.550877\n",
      "6    6    0.854627     0.0146  6.50739     0.461003\n",
      "7    7    0.854621     0.0142  6.50823     0.459181\n",
      "8    8    0.854421     0.0140  6.50337     0.457608\n",
      "9    9    0.958480     0.0362  6.81287     0.499883\n",
      "10  10    0.958283     0.0362  6.83733     0.504610\n",
      "11  11    0.958283     0.0360  6.85423     0.507206\n",
      "12  12    0.945513     0.0304  6.90387     0.505967\n",
      "13  13    0.945513     0.0302  6.89395     0.503414\n",
      "14  14    0.945513     0.0302  6.88920     0.502529\n",
      "15  15    0.843596     0.0118  6.08627     0.385239\n",
      "16  16    0.843405     0.0114  6.08733     0.383819\n",
      "17  17    0.843203     0.0114  6.08004     0.382750\n",
      "18  18    0.958283     0.0362  6.96657     0.528930\n",
      "19  19    0.958283     0.0360  6.97614     0.530132\n",
      "20  20    0.958283     0.0360  6.97807     0.530496\n",
      "21  21    0.950707     0.0276  6.94108     0.499567\n",
      "22  22    0.950505     0.0278  6.92010     0.496591\n",
      "23  23    0.950505     0.0278  6.91097     0.494912\n",
      "24  24    0.827036     0.0118  5.91724     0.379903\n",
      "25  25    0.826050     0.0116  5.89825     0.376820\n",
      "26  26    0.826453     0.0114  5.89902     0.375327\n",
      "27  27    0.958283     0.0362  6.95067     0.525938\n",
      "28  28    0.958283     0.0362  6.94133     0.524181\n",
      "29  29    0.958283     0.0362  6.93686     0.523340\n",
      "30  30    0.956081     0.0350  6.72283     0.480926\n",
      "31  31    0.955878     0.0350  6.70761     0.478191\n",
      "32  32    0.955878     0.0350  6.69813     0.476411\n",
      "33  33    0.879535     0.0140  6.24338     0.367179\n",
      "34  34    0.879333     0.0138  6.23147     0.364416\n",
      "35  35    0.879130     0.0136  6.22693     0.362997\n",
      "36  36    0.958480     0.0362  6.88599     0.513642\n",
      "37  37    0.958283     0.0364  6.86747     0.510863\n",
      "38  38    0.958283     0.0360  6.86527     0.509282\n",
      "39  39    0.954678     0.0362  6.58209     0.458715\n",
      "40  40    0.954674     0.0362  6.56108     0.454755\n",
      "41  41    0.954876     0.0360  6.55343     0.452643\n",
      "42  42    0.879355     0.0144  5.99584     0.323933\n",
      "43  43    0.879153     0.0144  5.97724     0.320824\n",
      "44  44    0.878955     0.0142  5.97209     0.319326\n"
     ]
    },
    {
     "data": {
      "text/plain": [
       "<Axes: xlabel='PK', ylabel='Selectivity'>"
      ]
     },
     "execution_count": 5,
     "metadata": {},
     "output_type": "execute_result"
    },
    {
     "data": {
      "image/png": "[encoded data removed]",
      "text/plain": [
       "<Figure size 640x480 with 1 Axes>"
      ]
     },
     "metadata": {},
     "output_type": "display_data"
    }
   ],
   "source": [
    "#creating a pandas dataframe:\n",
    "df = pd.DataFrame(metrics_list, columns =['PK', 'Efficiency', 'Fake Rate', 'Q value', 'Selectivity'])\n",
    "print(df)\n",
    "df.plot(x=\"PK\", y=\"Selectivity\", kind=\"scatter\")\n"
   ]
  },
  {
   "cell_type": "code",
   "execution_count": 6,
   "id": "dcbf4ef5",
   "metadata": {},
   "outputs": [
    {
     "name": "stdout",
     "output_type": "stream",
     "text": [
      "    PK   N   CF  alfa\n",
      "0    0  10  1.0   0.5\n",
      "1    1  10  1.0   0.7\n",
      "2    2  10  1.0   0.9\n",
      "3    3  10  0.8   0.5\n",
      "4    4  10  0.8   0.7\n",
      "5    5  10  0.8   0.9\n",
      "6    6  10  0.6   0.5\n",
      "7    7  10  0.6   0.7\n",
      "8    8  10  0.6   0.9\n",
      "9    9  15  1.0   0.5\n",
      "10  10  15  1.0   0.7\n",
      "11  11  15  1.0   0.9\n",
      "12  12  15  0.8   0.5\n",
      "13  13  15  0.8   0.7\n",
      "14  14  15  0.8   0.9\n",
      "15  15  15  0.6   0.5\n",
      "16  16  15  0.6   0.7\n",
      "17  17  15  0.6   0.9\n",
      "18  18  20  1.0   0.5\n",
      "19  19  20  1.0   0.7\n",
      "20  20  20  1.0   0.9\n",
      "21  21  20  0.8   0.5\n",
      "22  22  20  0.8   0.7\n",
      "23  23  20  0.8   0.9\n",
      "24  24  20  0.6   0.5\n",
      "25  25  20  0.6   0.7\n",
      "26  26  20  0.6   0.9\n",
      "27  27  25  1.0   0.5\n",
      "28  28  25  1.0   0.7\n",
      "29  29  25  1.0   0.9\n",
      "30  30  25  0.8   0.5\n",
      "31  31  25  0.8   0.7\n",
      "32  32  25  0.8   0.9\n",
      "33  33  25  0.6   0.5\n",
      "34  34  25  0.6   0.7\n",
      "35  35  25  0.6   0.9\n",
      "36  36  30  1.0   0.5\n",
      "37  37  30  1.0   0.7\n",
      "38  38  30  1.0   0.9\n",
      "39  39  30  0.8   0.5\n",
      "40  40  30  0.8   0.7\n",
      "41  41  30  0.8   0.9\n",
      "42  42  30  0.6   0.5\n",
      "43  43  30  0.6   0.7\n",
      "44  44  30  0.6   0.9\n"
     ]
    }
   ],
   "source": [
    "#creating a pandas dataframe with the combinations\n",
    "\n",
    "NL0_list =          [10, 15, 20, 25, 30]       \n",
    "CFI0_list =         [1, 0.8, 0.6] \n",
    "a_list =            [0.5, 0.7, 0.9]      #alfa parameter -> inhibition strength\n",
    "\n",
    "parameters_list = (NL0_list, CFI0_list, a_list)\n",
    "\n",
    "all_combinations = itertools.product(*parameters_list)\n",
    "\n",
    "combo_list = [(i, *combination) for i, combination in enumerate(all_combinations)]\n",
    "\n",
    "combo_df = pd.DataFrame(combo_list, columns=[\"PK\",\"N\", \"CF\", \"alfa\"])\n",
    "print(combo_df)"
   ]
  },
  {
   "cell_type": "code",
   "execution_count": 7,
   "id": "8920b76b",
   "metadata": {},
   "outputs": [
    {
     "name": "stdout",
     "output_type": "stream",
     "text": [
      "    PK  Efficiency  Fake Rate  Q value  Selectivity   N   CF  alfa\n",
      "0    0    0.958283     0.0362  6.34906     0.412728  10  1.0   0.5\n",
      "1    1    0.958283     0.0362  6.41203     0.424577  10  1.0   0.7\n",
      "2    2    0.958283     0.0360  6.44328     0.429919  10  1.0   0.9\n",
      "3    3    0.958283     0.0364  7.06031     0.547172  10  0.8   0.5\n",
      "4    4    0.958086     0.0358  7.08012     0.549205  10  0.8   0.7\n",
      "5    5    0.957883     0.0360  7.08504     0.550877  10  0.8   0.9\n",
      "6    6    0.854627     0.0146  6.50739     0.461003  10  0.6   0.5\n",
      "7    7    0.854621     0.0142  6.50823     0.459181  10  0.6   0.7\n",
      "8    8    0.854421     0.0140  6.50337     0.457608  10  0.6   0.9\n",
      "9    9    0.958480     0.0362  6.81287     0.499883  15  1.0   0.5\n",
      "10  10    0.958283     0.0362  6.83733     0.504610  15  1.0   0.7\n",
      "11  11    0.958283     0.0360  6.85423     0.507206  15  1.0   0.9\n",
      "12  12    0.945513     0.0304  6.90387     0.505967  15  0.8   0.5\n",
      "13  13    0.945513     0.0302  6.89395     0.503414  15  0.8   0.7\n",
      "14  14    0.945513     0.0302  6.88920     0.502529  15  0.8   0.9\n",
      "15  15    0.843596     0.0118  6.08627     0.385239  15  0.6   0.5\n",
      "16  16    0.843405     0.0114  6.08733     0.383819  15  0.6   0.7\n",
      "17  17    0.843203     0.0114  6.08004     0.382750  15  0.6   0.9\n",
      "18  18    0.958283     0.0362  6.96657     0.528930  20  1.0   0.5\n",
      "19  19    0.958283     0.0360  6.97614     0.530132  20  1.0   0.7\n",
      "20  20    0.958283     0.0360  6.97807     0.530496  20  1.0   0.9\n",
      "21  21    0.950707     0.0276  6.94108     0.499567  20  0.8   0.5\n",
      "22  22    0.950505     0.0278  6.92010     0.496591  20  0.8   0.7\n",
      "23  23    0.950505     0.0278  6.91097     0.494912  20  0.8   0.9\n",
      "24  24    0.827036     0.0118  5.91724     0.379903  20  0.6   0.5\n",
      "25  25    0.826050     0.0116  5.89825     0.376820  20  0.6   0.7\n",
      "26  26    0.826453     0.0114  5.89902     0.375327  20  0.6   0.9\n",
      "27  27    0.958283     0.0362  6.95067     0.525938  25  1.0   0.5\n",
      "28  28    0.958283     0.0362  6.94133     0.524181  25  1.0   0.7\n",
      "29  29    0.958283     0.0362  6.93686     0.523340  25  1.0   0.9\n",
      "30  30    0.956081     0.0350  6.72283     0.480926  25  0.8   0.5\n",
      "31  31    0.955878     0.0350  6.70761     0.478191  25  0.8   0.7\n",
      "32  32    0.955878     0.0350  6.69813     0.476411  25  0.8   0.9\n",
      "33  33    0.879535     0.0140  6.24338     0.367179  25  0.6   0.5\n",
      "34  34    0.879333     0.0138  6.23147     0.364416  25  0.6   0.7\n",
      "35  35    0.879130     0.0136  6.22693     0.362997  25  0.6   0.9\n",
      "36  36    0.958480     0.0362  6.88599     0.513642  30  1.0   0.5\n",
      "37  37    0.958283     0.0364  6.86747     0.510863  30  1.0   0.7\n",
      "38  38    0.958283     0.0360  6.86527     0.509282  30  1.0   0.9\n",
      "39  39    0.954678     0.0362  6.58209     0.458715  30  0.8   0.5\n",
      "40  40    0.954674     0.0362  6.56108     0.454755  30  0.8   0.7\n",
      "41  41    0.954876     0.0360  6.55343     0.452643  30  0.8   0.9\n",
      "42  42    0.879355     0.0144  5.99584     0.323933  30  0.6   0.5\n",
      "43  43    0.879153     0.0144  5.97724     0.320824  30  0.6   0.7\n",
      "44  44    0.878955     0.0142  5.97209     0.319326  30  0.6   0.9\n"
     ]
    }
   ],
   "source": [
    "#inner join using PK field\n",
    "join_df = df.join(combo_df.set_index(\"PK\"), on=\"PK\")\n",
    "print (join_df)"
   ]
  },
  {
   "cell_type": "code",
   "execution_count": 8,
   "id": "84897769",
   "metadata": {},
   "outputs": [
    {
     "data": {
      "text/plain": [
       "<Axes: xlabel='alfa-CF', ylabel='N'>"
      ]
     },
     "execution_count": 8,
     "metadata": {},
     "output_type": "execute_result"
    },
    {
     "data": {
      "image/png": "[encoded data removed]",
      "text/plain": [
       "<Figure size 640x480 with 2 Axes>"
      ]
     },
     "metadata": {},
     "output_type": "display_data"
    }
   ],
   "source": [
    "sns.heatmap(join_df.pivot(index=\"N\", columns=[\"alfa\", \"CF\"], values=\"Selectivity\"))"
   ]
  },
  {
   "cell_type": "code",
   "execution_count": 9,
   "id": "9e67095a",
   "metadata": {},
   "outputs": [
    {
     "data": {
      "text/plain": [
       "<Axes: xlabel='CF-alfa', ylabel='N'>"
      ]
     },
     "execution_count": 9,
     "metadata": {},
     "output_type": "execute_result"
    },
    {
     "data": {
      "image/png": "[encoded data removed]",
      "text/plain": [
       "<Figure size 640x480 with 2 Axes>"
      ]
     },
     "metadata": {},
     "output_type": "display_data"
    }
   ],
   "source": [
    "sns.heatmap(join_df.pivot(index=\"N\", columns=[\"CF\", \"alfa\"], values=\"Q value\"))\n"
   ]
  },
  {
   "cell_type": "code",
   "execution_count": 10,
   "id": "e5ab0785",
   "metadata": {},
   "outputs": [
    {
     "data": {
      "text/plain": [
       "<Axes: xlabel='CF-alfa', ylabel='N'>"
      ]
     },
     "execution_count": 10,
     "metadata": {},
     "output_type": "execute_result"
    },
    {
     "data": {
      "image/png": "[encoded data removed]",
      "text/plain": [
       "<Figure size 640x480 with 2 Axes>"
      ]
     },
     "metadata": {},
     "output_type": "display_data"
    }
   ],
   "source": [
    "sns.heatmap(join_df.pivot(index=\"N\", columns=[\"CF\", \"alfa\"], values=\"Efficiency\"))"
   ]
  },
  {
   "cell_type": "code",
   "execution_count": 11,
   "id": "f8aa2bce",
   "metadata": {},
   "outputs": [
    {
     "data": {
      "text/plain": [
       "<Axes: xlabel='CF-alfa', ylabel='N'>"
      ]
     },
     "execution_count": 11,
     "metadata": {},
     "output_type": "execute_result"
    },
    {
     "data": {
      "image/png": "[encoded data removed]",
      "text/plain": [
       "<Figure size 640x480 with 2 Axes>"
      ]
     },
     "metadata": {},
     "output_type": "display_data"
    }
   ],
   "source": [
    "sns.heatmap(join_df.pivot(index=\"N\", columns=[\"CF\", \"alfa\"], values=\"Fake Rate\"))"
   ]
  },
  {
   "cell_type": "code",
   "execution_count": null,
   "id": "bcc7315f",
   "metadata": {},
   "outputs": [],
   "source": []
  }
 ],
 "metadata": {
  "kernelspec": {
   "display_name": "Python 3 (ipykernel)",
   "language": "python",
   "name": "python3"
  },
  "language_info": {
   "codemirror_mode": {
    "name": "ipython",
    "version": 3
   },
   "file_extension": ".py",
   "mimetype": "text/x-python",
   "name": "python",
   "nbconvert_exporter": "python",
   "pygments_lexer": "ipython3",
   "version": "3.10.12"
  }
 },
 "nbformat": 4,
 "nbformat_minor": 5
}
